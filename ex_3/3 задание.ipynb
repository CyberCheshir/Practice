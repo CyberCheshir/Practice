{
 "cells": [
  {
   "cell_type": "code",
   "execution_count": 1,
   "id": "1f989642",
   "metadata": {},
   "outputs": [],
   "source": [
    "import pandas as pd"
   ]
  },
  {
   "cell_type": "markdown",
   "id": "8ae7c8c0",
   "metadata": {},
   "source": [
    "Считывание данных"
   ]
  },
  {
   "cell_type": "code",
   "execution_count": 2,
   "id": "6afa0fe0",
   "metadata": {},
   "outputs": [],
   "source": [
    "df_departments = pd.read_csv('data/задача 3/departments.csv')\n",
    "df_income = pd.read_csv('data/задача 3/income_out.csv')\n",
    "df_operations = pd.read_csv('data/задача 3/operations.csv')"
   ]
  },
  {
   "cell_type": "markdown",
   "id": "a3cbec14",
   "metadata": {},
   "source": [
    "Объединение в таблицу"
   ]
  },
  {
   "cell_type": "code",
   "execution_count": 3,
   "id": "28e19277",
   "metadata": {},
   "outputs": [
    {
     "data": {
      "text/html": [
       "<div>\n",
       "<style scoped>\n",
       "    .dataframe tbody tr th:only-of-type {\n",
       "        vertical-align: middle;\n",
       "    }\n",
       "\n",
       "    .dataframe tbody tr th {\n",
       "        vertical-align: top;\n",
       "    }\n",
       "\n",
       "    .dataframe thead th {\n",
       "        text-align: right;\n",
       "    }\n",
       "</style>\n",
       "<table border=\"1\" class=\"dataframe\">\n",
       "  <thead>\n",
       "    <tr style=\"text-align: right;\">\n",
       "      <th></th>\n",
       "      <th>year</th>\n",
       "      <th>month</th>\n",
       "      <th>day</th>\n",
       "      <th>name</th>\n",
       "      <th>income</th>\n",
       "    </tr>\n",
       "  </thead>\n",
       "  <tbody>\n",
       "    <tr>\n",
       "      <th>0</th>\n",
       "      <td>2021</td>\n",
       "      <td>1</td>\n",
       "      <td>4</td>\n",
       "      <td>Отдел безопасности</td>\n",
       "      <td>669306</td>\n",
       "    </tr>\n",
       "    <tr>\n",
       "      <th>1</th>\n",
       "      <td>2021</td>\n",
       "      <td>1</td>\n",
       "      <td>6</td>\n",
       "      <td>Отдел финансового мониторинга</td>\n",
       "      <td>806090</td>\n",
       "    </tr>\n",
       "    <tr>\n",
       "      <th>2</th>\n",
       "      <td>2021</td>\n",
       "      <td>1</td>\n",
       "      <td>8</td>\n",
       "      <td>Отдел безопасности</td>\n",
       "      <td>364802</td>\n",
       "    </tr>\n",
       "  </tbody>\n",
       "</table>\n",
       "</div>"
      ],
      "text/plain": [
       "   year  month  day                           name  income\n",
       "0  2021      1    4             Отдел безопасности  669306\n",
       "1  2021      1    6  Отдел финансового мониторинга  806090\n",
       "2  2021      1    8             Отдел безопасности  364802"
      ]
     },
     "execution_count": 3,
     "metadata": {},
     "output_type": "execute_result"
    }
   ],
   "source": [
    "df = pd.merge(df_operations, df_departments,how ='left',left_on='department_id', right_on='id')\n",
    "df = df[(df['month'] <= 12) & (df['day'] <= 31)]\n",
    "select_columns = ['year','month','day','name','income',]\n",
    "df = df[select_columns]\n",
    "df.head(3)"
   ]
  },
  {
   "cell_type": "markdown",
   "id": "c340fdd2",
   "metadata": {},
   "source": [
    "Объединение в сводную"
   ]
  },
  {
   "cell_type": "code",
   "execution_count": 4,
   "id": "cda3ceb8",
   "metadata": {},
   "outputs": [
    {
     "data": {
      "text/html": [
       "<div>\n",
       "<style scoped>\n",
       "    .dataframe tbody tr th:only-of-type {\n",
       "        vertical-align: middle;\n",
       "    }\n",
       "\n",
       "    .dataframe tbody tr th {\n",
       "        vertical-align: top;\n",
       "    }\n",
       "\n",
       "    .dataframe thead th {\n",
       "        text-align: right;\n",
       "    }\n",
       "</style>\n",
       "<table border=\"1\" class=\"dataframe\">\n",
       "  <thead>\n",
       "    <tr style=\"text-align: right;\">\n",
       "      <th></th>\n",
       "      <th>year</th>\n",
       "      <th>month</th>\n",
       "      <th>Отдел безопасности</th>\n",
       "      <th>Отдел продаж</th>\n",
       "      <th>Отдел финансового мониторинга</th>\n",
       "    </tr>\n",
       "  </thead>\n",
       "  <tbody>\n",
       "    <tr>\n",
       "      <th>0</th>\n",
       "      <td>2021</td>\n",
       "      <td>1</td>\n",
       "      <td>4074097</td>\n",
       "      <td>0</td>\n",
       "      <td>3937796</td>\n",
       "    </tr>\n",
       "    <tr>\n",
       "      <th>1</th>\n",
       "      <td>2021</td>\n",
       "      <td>2</td>\n",
       "      <td>3701828</td>\n",
       "      <td>0</td>\n",
       "      <td>4030412</td>\n",
       "    </tr>\n",
       "    <tr>\n",
       "      <th>2</th>\n",
       "      <td>2021</td>\n",
       "      <td>3</td>\n",
       "      <td>6016315</td>\n",
       "      <td>0</td>\n",
       "      <td>2682574</td>\n",
       "    </tr>\n",
       "  </tbody>\n",
       "</table>\n",
       "</div>"
      ],
      "text/plain": [
       "   year  month  Отдел безопасности  Отдел продаж  \\\n",
       "0  2021      1             4074097             0   \n",
       "1  2021      2             3701828             0   \n",
       "2  2021      3             6016315             0   \n",
       "\n",
       "   Отдел финансового мониторинга  \n",
       "0                        3937796  \n",
       "1                        4030412  \n",
       "2                        2682574  "
      ]
     },
     "execution_count": 4,
     "metadata": {},
     "output_type": "execute_result"
    }
   ],
   "source": [
    "pivot_df = df.pivot_table(values='income', index=['year', 'month'],columns ='name', aggfunc='sum', fill_value=0)\n",
    "pivot_df = pivot_df.reset_index().rename_axis(None, axis=1)\n",
    "pivot_df.head(3)"
   ]
  },
  {
   "cell_type": "markdown",
   "id": "af43ce60",
   "metadata": {},
   "source": [
    "Подготовка формата и сохранение"
   ]
  },
  {
   "cell_type": "code",
   "execution_count": 5,
   "id": "256068d4",
   "metadata": {},
   "outputs": [],
   "source": [
    "columns = ['year','month','department','income']\n",
    "result_df = pd.DataFrame(columns=columns)\n",
    "len_pivot = len(pivot_df)\n",
    "for name in pivot_df.columns[2:]:\n",
    "    year = pivot_df.year.values\n",
    "    month = pivot_df.month.values\n",
    "    department_name = len_pivot*[name]\n",
    "    income = pivot_df[name]\n",
    "    \n",
    "    add_df = pd.DataFrame(dict(zip(columns,[year,month,department_name,income])))\n",
    "    add_df = add_df.groupby('year').filter(lambda x: (x['income'] > 0).all()) # убираем значения простая отдела в течение года\n",
    "    result_df = pd.concat([result_df,add_df])\n",
    "result_df = result_df.sort_values(['year','month','department'])\n"
   ]
  },
  {
   "cell_type": "code",
   "execution_count": 6,
   "id": "5928bb28",
   "metadata": {},
   "outputs": [
    {
     "data": {
      "text/html": [
       "<div>\n",
       "<style scoped>\n",
       "    .dataframe tbody tr th:only-of-type {\n",
       "        vertical-align: middle;\n",
       "    }\n",
       "\n",
       "    .dataframe tbody tr th {\n",
       "        vertical-align: top;\n",
       "    }\n",
       "\n",
       "    .dataframe thead th {\n",
       "        text-align: right;\n",
       "    }\n",
       "</style>\n",
       "<table border=\"1\" class=\"dataframe\">\n",
       "  <thead>\n",
       "    <tr style=\"text-align: right;\">\n",
       "      <th></th>\n",
       "      <th>year</th>\n",
       "      <th>month</th>\n",
       "      <th>department</th>\n",
       "      <th>income</th>\n",
       "    </tr>\n",
       "  </thead>\n",
       "  <tbody>\n",
       "    <tr>\n",
       "      <th>0</th>\n",
       "      <td>2021</td>\n",
       "      <td>1</td>\n",
       "      <td>Отдел безопасности</td>\n",
       "      <td>4074097</td>\n",
       "    </tr>\n",
       "    <tr>\n",
       "      <th>0</th>\n",
       "      <td>2021</td>\n",
       "      <td>1</td>\n",
       "      <td>Отдел финансового мониторинга</td>\n",
       "      <td>3937796</td>\n",
       "    </tr>\n",
       "    <tr>\n",
       "      <th>1</th>\n",
       "      <td>2021</td>\n",
       "      <td>2</td>\n",
       "      <td>Отдел безопасности</td>\n",
       "      <td>3701828</td>\n",
       "    </tr>\n",
       "    <tr>\n",
       "      <th>1</th>\n",
       "      <td>2021</td>\n",
       "      <td>2</td>\n",
       "      <td>Отдел финансового мониторинга</td>\n",
       "      <td>4030412</td>\n",
       "    </tr>\n",
       "    <tr>\n",
       "      <th>2</th>\n",
       "      <td>2021</td>\n",
       "      <td>3</td>\n",
       "      <td>Отдел безопасности</td>\n",
       "      <td>6016315</td>\n",
       "    </tr>\n",
       "  </tbody>\n",
       "</table>\n",
       "</div>"
      ],
      "text/plain": [
       "   year month                     department   income\n",
       "0  2021     1             Отдел безопасности  4074097\n",
       "0  2021     1  Отдел финансового мониторинга  3937796\n",
       "1  2021     2             Отдел безопасности  3701828\n",
       "1  2021     2  Отдел финансового мониторинга  4030412\n",
       "2  2021     3             Отдел безопасности  6016315"
      ]
     },
     "execution_count": 6,
     "metadata": {},
     "output_type": "execute_result"
    }
   ],
   "source": [
    "result_df.head()"
   ]
  },
  {
   "cell_type": "code",
   "execution_count": 7,
   "id": "ca86e1fb",
   "metadata": {},
   "outputs": [],
   "source": [
    "result_df.to_csv('3_ex__result.csv',index=False)"
   ]
  }
 ],
 "metadata": {
  "kernelspec": {
   "display_name": "Python 3 (ipykernel)",
   "language": "python",
   "name": "python3"
  },
  "language_info": {
   "codemirror_mode": {
    "name": "ipython",
    "version": 3
   },
   "file_extension": ".py",
   "mimetype": "text/x-python",
   "name": "python",
   "nbconvert_exporter": "python",
   "pygments_lexer": "ipython3",
   "version": "3.9.13"
  },
  "varInspector": {
   "cols": {
    "lenName": 16,
    "lenType": 16,
    "lenVar": 40
   },
   "kernels_config": {
    "python": {
     "delete_cmd_postfix": "",
     "delete_cmd_prefix": "del ",
     "library": "var_list.py",
     "varRefreshCmd": "print(var_dic_list())"
    },
    "r": {
     "delete_cmd_postfix": ") ",
     "delete_cmd_prefix": "rm(",
     "library": "var_list.r",
     "varRefreshCmd": "cat(var_dic_list()) "
    }
   },
   "types_to_exclude": [
    "module",
    "function",
    "builtin_function_or_method",
    "instance",
    "_Feature"
   ],
   "window_display": false
  }
 },
 "nbformat": 4,
 "nbformat_minor": 5
}
